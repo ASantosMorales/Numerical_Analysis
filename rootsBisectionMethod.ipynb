{
 "cells": [
  {
   "cell_type": "code",
   "execution_count": 44,
   "metadata": {},
   "outputs": [
    {
     "name": "stdout",
     "output_type": "stream",
     "text": [
      "Iteration = 0   x_low = 0   x_high= 5   x_root_approx = 2.5   relative_error nan\n",
      "Iteration = 1   x_low = 0   x_high= 2.5   x_root_approx = 1.25   relative_error 100.0\n",
      "Iteration = 2   x_low = 0   x_high= 1.25   x_root_approx = 0.625   relative_error 100.0\n",
      "Iteration = 3   x_low = 0   x_high= 0.625   x_root_approx = 0.3125   relative_error 100.0\n",
      "Iteration = 4   x_low = 0.3125   x_high= 0.625   x_root_approx = 0.46875   relative_error 33.33333\n",
      "Iteration = 5   x_low = 0.3125   x_high= 0.46875   x_root_approx = 0.39062   relative_error 20.0\n",
      "Iteration = 6   x_low = 0.3125   x_high= 0.39062   x_root_approx = 0.35156   relative_error 11.11111\n",
      "Iteration = 7   x_low = 0.35156   x_high= 0.39062   x_root_approx = 0.37109   relative_error 5.26316\n",
      "Iteration = 8   x_low = 0.35156   x_high= 0.37109   x_root_approx = 0.36133   relative_error 2.7027\n",
      "Iteration = 9   x_low = 0.36133   x_high= 0.37109   x_root_approx = 0.36621   relative_error 1.33333\n",
      "Iteration = 10   x_low = 0.36621   x_high= 0.37109   x_root_approx = 0.36865   relative_error 0.66225\n",
      "Iteration = 11   x_low = 0.36621   x_high= 0.36865   x_root_approx = 0.36743   relative_error 0.33223\n",
      "Iteration = 12   x_low = 0.36743   x_high= 0.36865   x_root_approx = 0.36804   relative_error 0.16584\n",
      "Iteration = 13   x_low = 0.36743   x_high= 0.36804   x_root_approx = 0.36774   relative_error 0.08299\n",
      "Iteration = 14   x_low = 0.36774   x_high= 0.36804   x_root_approx = 0.36789   relative_error 0.04148\n",
      "Iteration = 15   x_low = 0.36774   x_high= 0.36789   x_root_approx = 0.36781   relative_error 0.02074\n",
      "Iteration = 16   x_low = 0.36781   x_high= 0.36789   x_root_approx = 0.36785   relative_error 0.01037\n",
      "Iteration = 17   x_low = 0.36785   x_high= 0.36789   x_root_approx = 0.36787   relative_error 0.00518\n",
      "\n",
      "x_root_approx = 0.3678703308105469 whit relative_error = (+/-) 0.01 %\n"
     ]
    },
    {
     "name": "stderr",
     "output_type": "stream",
     "text": [
      "c:\\users\\a_santos\\appdata\\local\\programs\\python\\python37-32\\lib\\site-packages\\ipykernel_launcher.py:62: RuntimeWarning: divide by zero encountered in log\n",
      "c:\\users\\a_santos\\appdata\\local\\programs\\python\\python37-32\\lib\\site-packages\\ipykernel_launcher.py:62: RuntimeWarning: invalid value encountered in log\n"
     ]
    },
    {
     "data": {
      "image/png": "[encoded data removed]",
      "text/plain": [
       "<Figure size 432x288 with 1 Axes>"
      ]
     },
     "metadata": {
      "needs_background": "light"
     },
     "output_type": "display_data"
    }
   ],
   "source": [
    "import matplotlib.pyplot as plt\n",
    "import numpy as np\n",
    "import math\n",
    "\n",
    "def getRoot_BisectionMethod(x_low, x_high, error_a, equation):\n",
    "    iterations = 0\n",
    "    error_a_iterations = math.nan\n",
    "    x_c_previous = 0\n",
    "    x_low_stored = x_low\n",
    "    x_high_stored = x_high\n",
    "    no_root = False\n",
    "    while((error_a_iterations > error_a) or (math.isnan(error_a_iterations))):\n",
    "        x_c_current = (x_high + x_low)/2\n",
    "        f_x_low = equation(x_low)\n",
    "        f_x_high = equation(x_high)\n",
    "        f_x_c = equation(x_c_current)\n",
    "        if (f_x_low*f_x_c < 0):\n",
    "            x_high = x_c_current\n",
    "        elif (f_x_high*f_x_c < 0):\n",
    "            x_low = x_c_current\n",
    "        else:\n",
    "            print(\"There is not root in this range\")\n",
    "            x_c_current = math.nan\n",
    "            no_root = True\n",
    "            break\n",
    "        if (iterations > 0):\n",
    "            error_a_iterations = np.abs((x_c_current - x_c_previous)/x_c_current)*100\n",
    "        print(\"Iteration =\", iterations, \\\n",
    "              \"  x_low =\", round(x_low_stored, 5), \\\n",
    "              \"  x_high=\", round(x_high_stored, 5), \\\n",
    "              \"  x_root_approx =\", round(x_c_current, 5), \\\n",
    "              \"  relative_error\", round(error_a_iterations, 5))\n",
    "        x_c_previous = x_c_current\n",
    "        x_low_stored = x_low\n",
    "        x_high_stored = x_high\n",
    "        iterations += 1\n",
    "    \n",
    "    if (no_root == False):\n",
    "        print(\"\\nx_root_approx =\", x_c_current, \"whit relative_error = (+/-)\", error_a, \"%\")\n",
    "    return x_c_current\n",
    "\n",
    "def plotFunctionAndRoot(x_low, x_high, x_root_approx, equation):\n",
    "    x = np.linspace((x_low - 0.05*np.abs(x_high - x_low)), (x_high + 0.05*np.abs(x_high - x_low)), num = 1000)\n",
    "    f_x = []\n",
    "    for i in range(len(x)):\n",
    "        f_x.append(equation(x[i]))\n",
    "    \n",
    "    plt.plot(x, f_x)\n",
    "    if not(math.isnan(x_root_approx)):\n",
    "        plt.scatter(x_root_approx, 0, color = 'r')\n",
    "    plt.grid()\n",
    "    plt.axvline(x_low, color = 'r')\n",
    "    plt.axvline(x_high, color = 'r')\n",
    "    plt.axhline(color = 'k')\n",
    "    plt.show()\n",
    "    \n",
    "#**************************************************************************************************************\n",
    "#**************************************************************************************************************\n",
    "#**************************************************************************************************************\n",
    "\n",
    "def equation(x):\n",
    "    return np.log(x) + 1\n",
    "\n",
    "x_root = getRoot_BisectionMethod(0, 5, 0.01, equation)\n",
    "plotFunctionAndRoot(0, 5, x_root, equation)"
   ]
  }
 ],
 "metadata": {
  "kernelspec": {
   "display_name": "Python 3",
   "language": "python",
   "name": "python3"
  },
  "language_info": {
   "codemirror_mode": {
    "name": "ipython",
    "version": 3
   },
   "file_extension": ".py",
   "mimetype": "text/x-python",
   "name": "python",
   "nbconvert_exporter": "python",
   "pygments_lexer": "ipython3",
   "version": "3.7.4"
  }
 },
 "nbformat": 4,
 "nbformat_minor": 2
}
