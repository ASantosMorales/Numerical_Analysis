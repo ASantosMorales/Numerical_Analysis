{
 "cells": [
  {
   "cell_type": "markdown",
   "metadata": {},
   "source": [
    "### Regresión lineal (mínimos cuadrados)\n",
    "\n",
    "Ajuste a una línea recta los valores $x$ y $y$ de la siguiente tabla\n",
    "\n",
    "<img src=\"files/Linear_regression_table.png\">\n",
    "\n",
    "#### Desarrollando *script*"
   ]
  },
  {
   "cell_type": "code",
   "execution_count": 3,
   "metadata": {},
   "outputs": [
    {
     "name": "stdout",
     "output_type": "stream",
     "text": [
      "The line obtained is:\n",
      "\n",
      " y = 0.071429 + 0.83929x \n",
      "\n",
      "\n"
     ]
    },
    {
     "data": {
      "image/png": "[encoded data removed]",
      "text/plain": [
       "<Figure size 432x288 with 1 Axes>"
      ]
     },
     "metadata": {
      "needs_background": "light"
     },
     "output_type": "display_data"
    }
   ],
   "source": [
    "import numpy as np\n",
    "import matplotlib.pyplot as plt\n",
    "\n",
    "x = np.array([1, 2, 3, 4, 5, 6, 7])\n",
    "y = np.array([0.5, 2.5, 2.0, 4.0, 3.5, 6.0, 5.5])\n",
    "\n",
    "n = len(x)\n",
    "\n",
    "a_1 = (n*np.sum(x*y) - np.sum(x)*np.sum(y))/(n*np.sum(x*x) - (np.sum(x))**2)\n",
    "a_0 = np.mean(y) - a_1*np.mean(x)\n",
    "\n",
    "def linear_regression_result(a_0, a_1, x_input):\n",
    "    return (a_0 + a_1*x_input)\n",
    "\n",
    "print(\"The line obtained is:\\n\\n\", \"y = {:.5} + {:.5}x\".format(a_0, a_1), \"\\n\\n\")\n",
    "\n",
    "plt.scatter(x, y, color = 'r')\n",
    "plt.plot([x[0], x[-1]], [linear_regression_result(a_0, a_1, x[0]), linear_regression_result(a_0, a_1, x[-1])], color = 'b')\n",
    "plt.xlabel('x')\n",
    "plt.ylabel('y')\n",
    "plt.grid()\n",
    "plt.axhline(color = 'k')\n",
    "plt.axvline(color = 'k')\n",
    "plt.show()"
   ]
  },
  {
   "attachments": {},
   "cell_type": "markdown",
   "metadata": {},
   "source": [
    "### Cuantificación del error en la regresión lineal\n",
    "\n",
    "Recordando la definición $r$\n",
    "\n",
    "$$r = \\frac{n\\sum x_iy_i - \\left( \\sum x_i \\right) \\left( \\sum y_i \\right)}{\\sqrt{n\\sum x_i^2 - \\left(\\sum x_i \\right)^2} \\sqrt{n\\sum y_i^2 - \\left(\\sum y_i \\right)^2}}$$\n",
    "\n",
    "Ahora calculando la $r$ para nuestro ejercicio"
   ]
  },
  {
   "cell_type": "code",
   "execution_count": 6,
   "metadata": {},
   "outputs": [
    {
     "name": "stdout",
     "output_type": "stream",
     "text": [
      "The correlation coeficient is:\n",
      "\n",
      " r = 0.93184\n"
     ]
    }
   ],
   "source": [
    "r = (n*np.sum(x*y) - np.sum(x)*np.sum(y))/(np.sqrt(n*np.sum(x*x) - (np.sum(x))**2) * np.sqrt(n*np.sum(y*y) - (np.sum(y))**2))\n",
    "\n",
    "print(\"The correlation coeficient is:\\n\\n\", \"r = {:.5}\".format(r))"
   ]
  }
 ],
 "metadata": {
  "kernelspec": {
   "display_name": "Python 3",
   "language": "python",
   "name": "python3"
  },
  "language_info": {
   "codemirror_mode": {
    "name": "ipython",
    "version": 3
   },
   "file_extension": ".py",
   "mimetype": "text/x-python",
   "name": "python",
   "nbconvert_exporter": "python",
   "pygments_lexer": "ipython3",
   "version": "3.7.4"
  }
 },
 "nbformat": 4,
 "nbformat_minor": 2
}
