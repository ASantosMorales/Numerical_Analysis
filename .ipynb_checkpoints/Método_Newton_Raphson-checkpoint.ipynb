{
 "cells": [
  {
   "cell_type": "markdown",
   "metadata": {},
   "source": [
    "### Método de Newton Raphson\n",
    "\n",
    "Utilice el método de Newton-Raphson para localizar la raíz de $f(x) = e^{-x}-x$ con un error relativo porcentual menor a 0.01 % y suponiendo $x_0 = 0$\n",
    "\n",
    "#### Solución\n",
    "\n",
    "Recordando la fórmula para el método de Newton-Raphson\n",
    "\n",
    "$$x_{i+1} = x_i - \\frac{f(x_i)}{f'(x_i)}$$\n",
    "\n",
    "vemos que es necesario obtener la derivada $f'(x)$\n",
    "\n",
    "$$f'(x) = -e^{-x}-1$$\n",
    "\n",
    "Sustituyendo en la fórmula de Newton-Raphson\n",
    "\n",
    "$$x_{i+1} = x_i - \\frac{e^{-x_i}-x_i}{-e^{-x_i}-1}$$\n",
    "\n",
    "Desarrollando en script:"
   ]
  },
  {
   "cell_type": "code",
   "execution_count": 11,
   "metadata": {
    "scrolled": true
   },
   "outputs": [
    {
     "name": "stdout",
     "output_type": "stream",
     "text": [
      "Iteration = 0   x_0 = 0.00000   x_1 = 0.50000   relative_error = 100.0 %\n",
      "Iteration = 1   x_1 = 0.50000   x_2 = 0.56631   relative_error = 11.70929 %\n",
      "Iteration = 2   x_2 = 0.56631   x_3 = 0.56714   relative_error = 0.14673 %\n",
      "Iteration = 3   x_3 = 0.56714   x_4 = 0.56714   relative_error = 2e-05 %\n",
      "\n",
      "x_root_approx = 0.5671432904097811 whit relative_error = (+/-) 0.01 %\n"
     ]
    }
   ],
   "source": [
    "import numpy as np\n",
    "import math\n",
    "\n",
    "def equation_f_x(x):\n",
    "    return math.pow(np.e, -x) - x\n",
    "\n",
    "def equation_derivate_f_x(x):\n",
    "    return - math.pow(np.e, -x) - 1\n",
    "\n",
    "error_a = 0.01\n",
    "x_0 = 0\n",
    "\n",
    "iterations = 0\n",
    "error_a_iterations = math.nan\n",
    "x_i = x_0\n",
    "divergency = False\n",
    "while ((error_a_iterations > error_a) or (math.isnan(error_a_iterations))):\n",
    "    x_i_plus_one = x_i - (equation_f_x(x_i))/(equation_derivate_f_x(x_i))\n",
    "    f_x_i_plus_one = equation_f_x(x_i_plus_one)\n",
    "    if not(f_x_i_plus_one == 0):\n",
    "        error_a_iterations = np.abs((x_i_plus_one - x_i)/x_i_plus_one)*100\n",
    "        print(\"Iteration =\", iterations, \\\n",
    "              \"  x_{} =\".format(iterations), \"%.5f\" % round(x_i, 5), \\\n",
    "              \"  x_{} =\".format(iterations + 1), \"%.5f\" % round(x_i_plus_one, 5), \\\n",
    "              \"  relative_error =\", round(error_a_iterations, 5), \"%\")\n",
    "        iterations += 1\n",
    "        x_i = x_i_plus_one\n",
    "        if (iterations > 50):\n",
    "            print(\"\\nMethod does not converge or it does it very slow\")\n",
    "            divergency = True\n",
    "            break\n",
    "    else:\n",
    "        print(\"Exact root was found\")\n",
    "        break\n",
    "\n",
    "if (divergency == False):\n",
    "    print(\"\\nx_root_approx =\", x_i_plus_one, \"whit relative_error = (+/-)\", error_a, \"%\")"
   ]
  },
  {
   "cell_type": "markdown",
   "metadata": {},
   "source": [
    "### Utilizando la librería sympy de python"
   ]
  },
  {
   "cell_type": "code",
   "execution_count": 8,
   "metadata": {},
   "outputs": [
    {
     "name": "stdout",
     "output_type": "stream",
     "text": [
      "function:    -x + exp(-x) \n",
      "\n",
      "first derivative function:    -1 - exp(-x) \n",
      "\n",
      "\n",
      "Iteration = 0   x_0 = 0.00000   x_1 = 0.50000   relative_error = 100.0 %\n",
      "Iteration = 1   x_1 = 0.50000   x_2 = 0.56631   relative_error = 11.70929 %\n",
      "Iteration = 2   x_2 = 0.56631   x_3 = 0.56714   relative_error = 0.14673 %\n",
      "Iteration = 3   x_3 = 0.56714   x_4 = 0.56714   relative_error = 2e-05 %\n",
      "\n",
      "x_root_approx = 0.5671432904097811 whit relative_error = (+/-) 0.01 %\n"
     ]
    }
   ],
   "source": [
    "import numpy as np\n",
    "import math\n",
    "import sympy\n",
    "\n",
    "x = sympy.Symbol('x')\n",
    "\n",
    "def equation(x):\n",
    "    return sympy.exp(-x) - x\n",
    "\n",
    "def equation_eval(a):\n",
    "    f_x_eval = sympy.lambdify(x, equation(x))\n",
    "    return f_x_eval(a)\n",
    "\n",
    "def dev_equation(x):\n",
    "    return equation(x).diff(x)\n",
    "\n",
    "def dev_equation_eval(a):\n",
    "    f_x_dev_eval = sympy.lambdify(x, dev_equation(x))\n",
    "    return f_x_dev_eval(a)\n",
    "\n",
    "print(\"function:   \", equation(x), \\\n",
    "      \"\\n\\nfirst derivative function:   \", dev_equation(x), \"\\n\\n\")\n",
    "\n",
    "error_a = 0.01\n",
    "x_0 = 0\n",
    "\n",
    "iterations = 0\n",
    "error_a_iterations = math.nan\n",
    "x_i = x_0\n",
    "divergency = False\n",
    "while ((error_a_iterations > error_a) or (math.isnan(error_a_iterations))):\n",
    "    x_i_plus_one = x_i - (equation_eval(x_i))/(dev_equation_eval(x_i))\n",
    "    f_x_i_plus_one = equation_eval(x_i_plus_one)\n",
    "    if not(f_x_i_plus_one == 0):\n",
    "        error_a_iterations = np.abs((x_i_plus_one - x_i)/x_i_plus_one)*100\n",
    "        print(\"Iteration =\", iterations, \\\n",
    "              \"  x_{} =\".format(iterations), \"%.5f\" % round(x_i, 5), \\\n",
    "              \"  x_{} =\".format(iterations + 1), \"%.5f\" % round(x_i_plus_one, 5), \\\n",
    "              \"  relative_error =\", round(error_a_iterations, 5), \"%\")\n",
    "        iterations += 1\n",
    "        x_i = x_i_plus_one\n",
    "        if (iterations > 50):\n",
    "            print(\"\\nMethod does not converge or it does it very slow\")\n",
    "            divergency = True\n",
    "            break\n",
    "    else:\n",
    "        print(\"Exact root was found\")\n",
    "        break\n",
    "\n",
    "if (divergency == False):\n",
    "    print(\"\\nx_root_approx =\", x_i_plus_one, \"whit relative_error = (+/-)\", error_a, \"%\")"
   ]
  },
  {
   "cell_type": "markdown",
   "metadata": {},
   "source": [
    "#### Únicamente queda pendiente graficar la función e indicar la raíz encontrada"
   ]
  },
  {
   "cell_type": "code",
   "execution_count": 10,
   "metadata": {},
   "outputs": [
    {
     "data": {
      "image/png": "[encoded data removed]",
      "text/plain": [
       "<Figure size 432x288 with 1 Axes>"
      ]
     },
     "metadata": {
      "needs_background": "light"
     },
     "output_type": "display_data"
    }
   ],
   "source": [
    "import matplotlib.pyplot as plt\n",
    "\n",
    "_x = np.linspace(-2, 2, num = 100)\n",
    "\n",
    "f_x = []\n",
    "for i in range(len(_x)):\n",
    "    f_x.append(equation_eval(_x[i]))\n",
    "    \n",
    "plt.plot(_x, f_x)\n",
    "plt.scatter(x_i_plus_one, 0, color = 'r')\n",
    "plt.grid()\n",
    "plt.axvline(color = 'k')\n",
    "plt.axhline(color = 'k')\n",
    "plt.show()"
   ]
  }
 ],
 "metadata": {
  "kernelspec": {
   "display_name": "Python 3",
   "language": "python",
   "name": "python3"
  },
  "language_info": {
   "codemirror_mode": {
    "name": "ipython",
    "version": 3
   },
   "file_extension": ".py",
   "mimetype": "text/x-python",
   "name": "python",
   "nbconvert_exporter": "python",
   "pygments_lexer": "ipython3",
   "version": "3.7.4"
  }
 },
 "nbformat": 4,
 "nbformat_minor": 2
}
