{
 "cells": [
  {
   "cell_type": "markdown",
   "metadata": {},
   "source": [
    "### Fórmulas de integración de Newton-Cotes\n",
    "\n",
    "Utilizar regla del trapecio para integrar la siguiente función entre $a = 0$ y $b = 0.8$\n",
    "\n",
    "$$f(x) = 0.2 + 25x - 200x^2 + 675x^3 - 900x^4 + 400x^5$$\n",
    "\n",
    "#### Solución\n",
    "\n",
    "Primero graficaremos la función para tener una idea del problema al que nos enfrentamos."
   ]
  },
  {
   "cell_type": "code",
   "execution_count": 6,
   "metadata": {},
   "outputs": [
    {
     "data": {
      "image/png": "[encoded data removed]",
      "text/plain": [
       "<Figure size 432x288 with 1 Axes>"
      ]
     },
     "metadata": {
      "needs_background": "light"
     },
     "output_type": "display_data"
    }
   ],
   "source": [
    "import numpy as np\n",
    "import matplotlib.pyplot as plt\n",
    "\n",
    "x = np.linspace(-0.05, 1.0, num = 200)\n",
    "\n",
    "a = 0.0\n",
    "b = 0.8\n",
    "\n",
    "def function(x_in):\n",
    "    return (0.2 + 25*x_in - 200*x_in**2 + 675*x_in**3 - 900*x_in**4 + 400*x_in**5)\n",
    "\n",
    "f_x = function(x)\n",
    "\n",
    "plt.plot(x, f_x)\n",
    "plt.axvline(a, color = 'r', linestyle = '--')\n",
    "plt.axvline(b, color = 'r', linestyle = '--')\n",
    "plt.axhline(color = 'k')\n",
    "plt.grid()\n",
    "plt.show()"
   ]
  },
  {
   "cell_type": "markdown",
   "metadata": {},
   "source": [
    "Posteriormente, aplicamos el método.\n",
    "\n",
    "Recordando la fórmula\n",
    "\n",
    "$$I = (b - a) \\frac{f(a) + f(b)}{2}$$"
   ]
  },
  {
   "cell_type": "code",
   "execution_count": 2,
   "metadata": {},
   "outputs": [
    {
     "name": "stdout",
     "output_type": "stream",
     "text": [
      "El área aproximada es: 0.1728\n"
     ]
    }
   ],
   "source": [
    "def trapeze_integration(a, b, function):\n",
    "    return ((b - a)*(function(a) + function(b))/2)\n",
    "\n",
    "I = trapeze_integration(a, b, function)\n",
    "\n",
    "print(\"El área aproximada es: {:.5}\".format(I))"
   ]
  },
  {
   "cell_type": "markdown",
   "metadata": {},
   "source": [
    "Ahora vamos a comparar nuestro resultado con lo que se obtiene en Wolfram Alpha.\n",
    "\n",
    "<img src=\"files/Integration_1.png\">\n",
    "\n",
    "Observamos un error muy grande\n",
    "\n",
    "$$\\varepsilon_T = 1.64053 - 0.17280 = 1.46773$$"
   ]
  },
  {
   "cell_type": "markdown",
   "metadata": {},
   "source": [
    "### Aplicación múltiple\n",
    "\n",
    "Recordando la fórmula para la regla del trapecio con aplicación múltiple\n",
    "\n",
    "$$I = \\frac{h}{2} \\left[ f(x_0) + 2\\sum\\limits_{i = 1}^{n - 1} f(x_i) + f(x_n) \\right]$$\n",
    "\n",
    "Resolveremos el mismo problema pero ahora dividiendo el intervalo de $a$ a $b$ con $n = 10$"
   ]
  },
  {
   "cell_type": "code",
   "execution_count": 3,
   "metadata": {},
   "outputs": [
    {
     "name": "stdout",
     "output_type": "stream",
     "text": [
      "El área aproximada utilizando aplicación múltiple es: 1.64028\n"
     ]
    }
   ],
   "source": [
    "def multiple_aplication_trapeze(a, b, function, n):\n",
    "    x = np.linspace(a, b, n + 1)\n",
    "    h = (b - a)/n\n",
    "    sumatory = 0\n",
    "    for i in range(1, n):\n",
    "        sumatory = sumatory + function(x[i])\n",
    "    return (h/2*(function(x[0]) + 2*sumatory + function(x[-1])))\n",
    "            \n",
    "I_multiple_trapeze = multiple_aplication_trapeze(a, b, function, 100)\n",
    "\n",
    "print(\"El área aproximada utilizando aplicación múltiple es: {:.6}\".format(I_multiple_trapeze))"
   ]
  },
  {
   "cell_type": "markdown",
   "metadata": {},
   "source": [
    "### Simpson 1/3\n",
    "\n",
    "Resuelve el mismo polinomio utilizando la regla Simpson 1/3 de aplicación múltiple.\n",
    "\n",
    "#### Codificando"
   ]
  },
  {
   "cell_type": "code",
   "execution_count": 4,
   "metadata": {},
   "outputs": [
    {
     "name": "stdout",
     "output_type": "stream",
     "text": [
      "El área aproximada utilizando aplicación múltiple es: 1.6401\n"
     ]
    }
   ],
   "source": [
    "# Creation of function to use multiple application of Simpson's rule\n",
    "def multiple_aplication_Simpson_1_3(a, b, function, n):\n",
    "    x = np.linspace(a, b, n + 1)\n",
    "    sum_odd = 0\n",
    "    sum_even = 0\n",
    "    for i in range(1, n):\n",
    "        if(i%2 == 1):\n",
    "            sum_odd = sum_odd + function(x[i])\n",
    "        else:\n",
    "            sum_even = sum_even + function(x[i])\n",
    "    return ((b - a)*(function(x[0]) + 4*sum_odd + 2*sum_even + function(x[-1]))/(3*n))\n",
    "\n",
    "I_multiple_Simpson_1_3 = multiple_aplication_Simpson_1_3(a, b, function, 10)\n",
    "\n",
    "print(\"El área aproximada utilizando aplicación múltiple es: {:.6}\".format(I_multiple_Simpson_1_3))"
   ]
  },
  {
   "cell_type": "markdown",
   "metadata": {},
   "source": [
    "### Comparando Regla del Trapecio con Regla Simpson 1/3\n",
    "\n",
    "Utilizando el mismo polinomio veremos quién llega más rápido a una solución aceptable."
   ]
  },
  {
   "cell_type": "code",
   "execution_count": 5,
   "metadata": {},
   "outputs": [
    {
     "data": {
      "image/png": "[encoded data removed]",
      "text/plain": [
       "<Figure size 432x288 with 1 Axes>"
      ]
     },
     "metadata": {
      "needs_background": "light"
     },
     "output_type": "display_data"
    }
   ],
   "source": [
    "limit = 30\n",
    "\n",
    "Trapeze_aproximation = []\n",
    "Simpson_1_3aproximation = [] \n",
    "for n in range(1, limit + 1):\n",
    "    Trapeze_aproximation.append(multiple_aplication_trapeze(a, b, function, n))\n",
    "    Simpson_1_3aproximation.append(multiple_aplication_Simpson_1_3(a, b, function, n))\n",
    "    \n",
    "plt.plot(np.arange(1, limit + 1), Trapeze_aproximation, color = 'b')\n",
    "plt.plot(np.arange(1, limit + 1), Simpson_1_3aproximation, color = 'r')\n",
    "plt.axhline(color = 'k')\n",
    "plt.axvline(color = 'k')\n",
    "plt.grid()\n",
    "plt.show()"
   ]
  }
 ],
 "metadata": {
  "kernelspec": {
   "display_name": "Python 3",
   "language": "python",
   "name": "python3"
  },
  "language_info": {
   "codemirror_mode": {
    "name": "ipython",
    "version": 3
   },
   "file_extension": ".py",
   "mimetype": "text/x-python",
   "name": "python",
   "nbconvert_exporter": "python",
   "pygments_lexer": "ipython3",
   "version": "3.7.4"
  }
 },
 "nbformat": 4,
 "nbformat_minor": 2
}
