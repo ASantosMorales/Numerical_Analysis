{
 "cells": [
  {
   "cell_type": "markdown",
   "metadata": {},
   "source": [
    "### Eliminación Gaussiana\n",
    "\n",
    "Resolver por eliminación Gaussiana el siguiente sistema de ecuaciones\n",
    "\n",
    "$$3x_1 - 0.1x_2 - 0.2x_3 = 7.85$$\n",
    "$$0.1x_1  + 7x_2 - 0.3x_3 = -19.3$$\n",
    "$$0.3x_1 - 0.2x_2 + 10x_3 = 71.4$$\n",
    "\n",
    "#### Desarrollo de *script*"
   ]
  },
  {
   "cell_type": "code",
   "execution_count": 5,
   "metadata": {},
   "outputs": [
    {
     "name": "stdout",
     "output_type": "stream",
     "text": [
      "Number of incognites = 4\n",
      "\n",
      "\n",
      "Reduction number 1\n",
      " [[  3.          -0.1         -0.2          0.1          7.85      ]\n",
      " [  0.           7.00333333  -0.29333333   0.99666667 -19.56166667]\n",
      " [  0.          -0.19        10.02        23.99        70.615     ]\n",
      " [  0.          -1.73333333   1.53333333  -0.16666667 -16.93333333]]\n",
      "\n",
      "\n",
      "Reduction number 2\n",
      " [[  3.          -0.1         -0.2          0.1          7.85      ]\n",
      " [  0.           7.00333333  -0.29333333   0.99666667 -19.56166667]\n",
      " [  0.           0.          10.01204188  24.0170395   70.08429319]\n",
      " [  0.           0.           1.46073298   0.08000952 -21.77486911]]\n",
      "\n",
      "\n",
      "Reduction number 3\n",
      " [[ 3.00000000e+00 -1.00000000e-01 -2.00000000e-01  1.00000000e-01\n",
      "   7.85000000e+00]\n",
      " [ 0.00000000e+00  7.00333333e+00 -2.93333333e-01  9.96666667e-01\n",
      "  -1.95616667e+01]\n",
      " [ 0.00000000e+00  0.00000000e+00  1.00120419e+01  2.40170395e+01\n",
      "   7.00842932e+01]\n",
      " [ 0.00000000e+00  0.00000000e+00  2.22044605e-16 -3.42401915e+00\n",
      "  -3.20000000e+01]]\n",
      "\n",
      "\n",
      "Solution:\n",
      "x_0 = 1.1182604383156074\n",
      "x_1 = -4.76902585717485\n",
      "x_2 = -15.418709433508544\n",
      "x_3 = 9.345742126339825\n"
     ]
    }
   ],
   "source": [
    "import numpy as np\n",
    "\n",
    "# Matrix creation\n",
    "A = np.matrix([[3, -0.1, -0.2, 0.1, 7.85], \\\n",
    "               [0.1, 7, -0.3, 1, -19.3], \\\n",
    "               [0.3, -0.2, 10, 24, 71.4], \\\n",
    "               [8, -2, 1, 0.1, 4]])\n",
    "\n",
    "# Get dimensions of matrix\n",
    "n, m = A.shape\n",
    "print(\"Number of incognites =\", n)\n",
    "\n",
    "# Forward elimination\n",
    "for i in range(n - 1):\n",
    "    for j in range(i + 1, n):\n",
    "        factor = A[j, i]/A[i, i]\n",
    "        for k in range(i, n + 1):\n",
    "            A[j, k] = A[j, k] - factor*A[i, k]\n",
    "    print(\"\\n\\nReduction number {}\\n\".format(i + 1), A)\n",
    "\n",
    "# Backward sustitution\n",
    "solutions = np.zeros(n)\n",
    "solutions[-1] = A[n - 1, m - 1]/A[n - 1, n - 1]\n",
    "for i in reversed(range(n - 1)):\n",
    "    sumatory = 0\n",
    "    for j in reversed(range(i + 1, n)):\n",
    "        sumatory = sumatory + A[i, j]*solutions[j]\n",
    "    solutions[i] = (A[i, m - 1] - sumatory)/A[i, i]\n",
    "\n",
    "# Print solutions\n",
    "print(\"\\n\\nSolution:\")\n",
    "for i in range(n):\n",
    "    print(\"x_{} =\".format(i), solutions[i])"
   ]
  },
  {
   "cell_type": "markdown",
   "metadata": {},
   "source": [
    "#### La siguiente imagen explica cómo se toman los índices durante el proceso de *Forward elimination*\n",
    "\n",
    "<img src=\"files/Matrix_index.png\">\n",
    "\n",
    "#### Aquí se explica el proceso *Backward sustitution*\n",
    "\n",
    "<img src=\"files/backward_sustitution.png\">"
   ]
  },
  {
   "cell_type": "markdown",
   "metadata": {},
   "source": [
    "### Alternativas a nuestro *script*\n",
    "\n",
    "Python en sus librerías ofrece un amplia gama de algoritmos precargados. Para este tema dentro de *numpy* existe una herramienta que resuelve sistemas de ecuaciones algebraicas lineales\n",
    "\n",
    "A continuación el uso de esta herramienta."
   ]
  },
  {
   "cell_type": "code",
   "execution_count": 3,
   "metadata": {},
   "outputs": [
    {
     "name": "stdout",
     "output_type": "stream",
     "text": [
      "[[ 3. ]\n",
      " [-2.5]\n",
      " [ 7. ]]\n"
     ]
    }
   ],
   "source": [
    "import numpy as np\n",
    "\n",
    "A = np.matrix([[3, -0.1, -0.2], \\\n",
    "               [0.1, 7, -0.3], \\\n",
    "               [0.3, -0.2, 10]])\n",
    "\n",
    "b = np.matrix([7.85, -19.3, 71.4])\n",
    "\n",
    "x = np.linalg.solve(A, b.transpose())\n",
    "\n",
    "print(x)"
   ]
  }
 ],
 "metadata": {
  "kernelspec": {
   "display_name": "Python 3",
   "language": "python",
   "name": "python3"
  },
  "language_info": {
   "codemirror_mode": {
    "name": "ipython",
    "version": 3
   },
   "file_extension": ".py",
   "mimetype": "text/x-python",
   "name": "python",
   "nbconvert_exporter": "python",
   "pygments_lexer": "ipython3",
   "version": "3.7.4"
  }
 },
 "nbformat": 4,
 "nbformat_minor": 2
}
