{
 "cells": [
  {
   "cell_type": "markdown",
   "metadata": {},
   "source": [
    "## Expansión en series de Maclaurin\n",
    "\n",
    "Es muy común en matemáticas encontrarse con funciones representadas mediante series infinitas. La serie de Maclaurin es un ejemplo de esto ya que puede representar un número del tipo $e^{x}$ de la siguiente manera:\n",
    "\n",
    "$$e^{x} = 1 + x + \\frac{x^{2}}{2!} + \\frac{x^{3}}{3!} + ... + \\frac{x^{n}}{n!}$$\n",
    "\n",
    "Así, cuanto más términos se le agreguen a la serie, la aproximación será cada vez más una mejor estimación del valor verdadero de $e^{x}$."
   ]
  },
  {
   "cell_type": "code",
   "execution_count": 4,
   "metadata": {},
   "outputs": [
    {
     "name": "stdout",
     "output_type": "stream",
     "text": [
      "Euler number is  2.718281828459045 \n",
      "\n",
      "\n",
      "When n = 0 then, Maclaurin aproximation is 1.0\n",
      "When n = 1 then, Maclaurin aproximation is 2.0\n",
      "When n = 2 then, Maclaurin aproximation is 2.5\n",
      "When n = 3 then, Maclaurin aproximation is 2.6666666666666665\n",
      "When n = 4 then, Maclaurin aproximation is 2.708333333333333\n",
      "When n = 5 then, Maclaurin aproximation is 2.7166666666666663\n",
      "When n = 6 then, Maclaurin aproximation is 2.7180555555555554\n",
      "When n = 7 then, Maclaurin aproximation is 2.7182539682539684\n",
      "When n = 8 then, Maclaurin aproximation is 2.71827876984127\n",
      "When n = 9 then, Maclaurin aproximation is 2.7182815255731922\n"
     ]
    },
    {
     "data": {
      "image/png": "[encoded data removed]",
      "text/plain": [
       "<Figure size 432x288 with 1 Axes>"
      ]
     },
     "metadata": {
      "needs_background": "light"
     },
     "output_type": "display_data"
    }
   ],
   "source": [
    "import math\n",
    "import matplotlib.pyplot as plt\n",
    "\n",
    "n = 10\n",
    "\n",
    "euler_number = [0]\n",
    "\n",
    "for i in range(n):\n",
    "    euler_number.append(euler_number[-1] + math.pow(1, i)/math.factorial(i))\n",
    "    \n",
    "del euler_number[0]\n",
    "\n",
    "#Euler number\n",
    "print(\"Euler number is \", math.e, \"\\n\\n\")\n",
    "\n",
    "for i in range(n):\n",
    "    print(\"When n =\", i, \"then, Maclaurin aproximation is\", euler_number[i])\n",
    "    \n",
    "plt.scatter(range(n), euler_number, color = 'r')\n",
    "plt.axhline(math.e, color = 'b')\n",
    "plt.show()\n"
   ]
  },
  {
   "cell_type": "markdown",
   "metadata": {},
   "source": [
    "### Error y cifras significativas\n",
    "\n",
    "De acuerdo al criterio visto en clase, debemos asegurar que:\n",
    "\n",
    "$$\\mid \\varepsilon_{a} \\mid < \\varepsilon_{s}$$\n",
    "\n",
    "Recordando:\n",
    "\n",
    "$$\\varepsilon_{a}=\\frac{aproximación\\ actual-aproximación\\ anterior}{aproximación\\ actual}100\\%$$\n",
    "\n",
    "\n",
    "$$\\varepsilon_{s}=(0.5\\times10^{2-m})\\%$$\n",
    "\n",
    "Donde $m$ es el número de cifras significativas, en lugar de $n$ para evitar confusión con la $n$ del ejercicio anterior.\n",
    "\n",
    "Se obtendrá cuál es el error permitido para cumplir con el criterio de cifras significativas donde $1\\leq m\\leq 5$."
   ]
  },
  {
   "cell_type": "code",
   "execution_count": 5,
   "metadata": {},
   "outputs": [
    {
     "name": "stdout",
     "output_type": "stream",
     "text": [
      "To 1 significant figures, the allowed error is 5.0 %\n",
      "To 2 significant figures, the allowed error is 0.5 %\n",
      "To 3 significant figures, the allowed error is 0.05 %\n",
      "To 4 significant figures, the allowed error is 0.005 %\n",
      "To 5 significant figures, the allowed error is 0.0005 %\n"
     ]
    }
   ],
   "source": [
    "error_s = []\n",
    "\n",
    "for m in range(1,6):\n",
    "    error_s.append(0.5*math.pow(10, 2 - m))\n",
    "    print(\"To\", m, \"significant figures, the allowed error is\", error_s[-1], \"%\")"
   ]
  },
  {
   "cell_type": "code",
   "execution_count": 6,
   "metadata": {},
   "outputs": [
    {
     "name": "stdout",
     "output_type": "stream",
     "text": [
      "For iteration 1 the error_a is 50.0 %\n",
      "For iteration 2 the error_a is 20.0 %\n",
      "For iteration 3 the error_a is 6.249999999999995 %\n",
      "For iteration 4 the error_a is 1.5384615384615332 %\n",
      "For iteration 5 the error_a is 0.30674846625766766 %\n",
      "For iteration 6 the error_a is 0.05109862033725888 %\n",
      "For iteration 7 the error_a is 0.007299270073000843 %\n",
      "For iteration 8 the error_a is 0.0009124004343056667 %\n",
      "For iteration 9 the error_a is 0.00010137772325217011 %\n"
     ]
    }
   ],
   "source": [
    "error_a = [0]\n",
    "\n",
    "for i in range(1, 10):\n",
    "    error_a.append((euler_number[i] - euler_number[i - 1])/euler_number[i]*100)\n",
    "    print(\"For iteration\", i, \"the error_a is\", error_a[-1], \"%\")"
   ]
  }
 ],
 "metadata": {
  "kernelspec": {
   "display_name": "Python 3",
   "language": "python",
   "name": "python3"
  },
  "language_info": {
   "codemirror_mode": {
    "name": "ipython",
    "version": 3
   },
   "file_extension": ".py",
   "mimetype": "text/x-python",
   "name": "python",
   "nbconvert_exporter": "python",
   "pygments_lexer": "ipython3",
   "version": "3.7.4"
  }
 },
 "nbformat": 4,
 "nbformat_minor": 2
}
