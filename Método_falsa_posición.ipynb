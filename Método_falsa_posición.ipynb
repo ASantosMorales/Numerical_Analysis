{
 "cells": [
  {
   "cell_type": "markdown",
   "metadata": {},
   "source": [
    "### Método de la falsa posición\n",
    "\n",
    "Realizar un *python script* para determinar de forma automática la raíz de la siguiente función por método de la falsa posición.\n",
    "\n",
    "$$f(x) = \\frac{667.38}{x}(1-e^{-0.146843x})-40$$\n",
    "\n",
    "\n",
    "$x_{low} = 12$ y $x_{high} = 16$\n",
    "\n",
    "El criterio de paro es $\\varepsilon_{a} = 0.01\\%$"
   ]
  },
  {
   "cell_type": "code",
   "execution_count": 5,
   "metadata": {},
   "outputs": [
    {
     "name": "stdout",
     "output_type": "stream",
     "text": [
      "Iteration = 0   x_low = 12.0   x_high= 14.91131   true_error 0.8543   relative_error nan\n",
      "Iteration = 1   x_low = 12.0   x_high= 14.7942   true_error 0.06221   relative_error 0.7916\n",
      "Iteration = 2   x_low = 12.0   x_high= 14.7817   true_error 0.02232   relative_error 0.08455\n",
      "Iteration = 3   x_low = 12.0   x_high= 14.78037   true_error 0.03133   relative_error 0.00902\n",
      "\n",
      "x = 14.78036760579795 whit relative_error = (+/-) 0.01 %\n"
     ]
    },
    {
     "data": {
      "image/png": "[encoded data removed]",
      "text/plain": [
       "<Figure size 432x288 with 1 Axes>"
      ]
     },
     "metadata": {
      "needs_background": "light"
     },
     "output_type": "display_data"
    }
   ],
   "source": [
    "import matplotlib.pyplot as plt\n",
    "import numpy as np\n",
    "import math\n",
    "\n",
    "def equation(x):\n",
    "    return 667.38/x*(1-math.pow(np.e, -0.146843*x))-40\n",
    "\n",
    "x_low = 12.0\n",
    "x_high = 16.0\n",
    "error_a = 0.01\n",
    "analytical_result = 14.785\n",
    "\n",
    "iterations = 0\n",
    "error_a_iterations = math.nan\n",
    "x_c_previous = 0\n",
    "\n",
    "\n",
    "while((error_a_iterations > error_a) or (math.isnan(error_a_iterations))):\n",
    "    x_c_current = x_high - ((equation(x_high)*(x_low - x_high))/(equation(x_low) - equation(x_high)))\n",
    "    f_x_low = equation(x_low)\n",
    "    f_x_c = equation(x_c_current)\n",
    "    if (f_x_low*f_x_c < 0):\n",
    "        x_high = x_c_current\n",
    "    else:\n",
    "        x_low = x_c_current\n",
    "    error_true = np.abs((analytical_result - x_c_current)/analytical_result)*100\n",
    "    if (iterations > 0):\n",
    "        error_a_iterations = np.abs((x_c_current - x_c_previous)/x_c_current)*100\n",
    "    print(\"Iteration =\", iterations, \\\n",
    "          \"  x_low =\", round(x_low, 5), \\\n",
    "          \"  x_high =\", round(x_high, 5), \\\n",
    "          \"  true_error =\", round(error_true, 5), \\\n",
    "          \"  relative_error =\", round(error_a_iterations, 5))\n",
    "    x_c_previous = x_c_current\n",
    "    iterations += 1\n",
    "\n",
    "print(\"\\nx =\", x_c_current, \"whit relative_error = (+/-)\", error_a, \"%\")\n",
    "\n",
    "#*************************************************************************\n",
    "x = np.linspace(12, 16, num = 100)\n",
    "f_x = []\n",
    "\n",
    "for i in range(len(x)):\n",
    "    f_x.append(667.38/x[i]*(1-math.pow(np.e, -0.146843*x[i]))-40)\n",
    "\n",
    "plt.plot(x, f_x)\n",
    "plt.scatter(x_c_current, 0, color = 'r')\n",
    "plt.grid()\n",
    "plt.axvline(12, color = 'r')\n",
    "plt.axvline(16, color = 'r')\n",
    "plt.axhline(color = 'k')\n",
    "plt.show()"
   ]
  }
 ],
 "metadata": {
  "kernelspec": {
   "display_name": "Python 3",
   "language": "python",
   "name": "python3"
  },
  "language_info": {
   "codemirror_mode": {
    "name": "ipython",
    "version": 3
   },
   "file_extension": ".py",
   "mimetype": "text/x-python",
   "name": "python",
   "nbconvert_exporter": "python",
   "pygments_lexer": "ipython3",
   "version": "3.7.4"
  }
 },
 "nbformat": 4,
 "nbformat_minor": 2
}
