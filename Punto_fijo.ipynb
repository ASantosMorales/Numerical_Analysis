{
 "cells": [
  {
   "cell_type": "markdown",
   "metadata": {},
   "source": [
    "### Iteración simple de punto fijo\n",
    "\n",
    "Utilice el método de iteración simple para localizar la raíz de $f(x) = e^{-x}-x$ con un error relativo porcentual menor a 0.01\n",
    "\n",
    "#### Solución\n",
    "\n",
    "Recordando que de acuerdo al método $f(x) = 0$, nos quedaría\n",
    "\n",
    "$$0 = e^{-x} - x$$\n",
    "\n",
    "$$x = e^{-x}$$\n",
    "\n",
    "quedando la ecuación de la forma $x = g(x)$.\n",
    "\n",
    "Ahora reacomodando para obtener la forma iterativa $x_{i+1}=g(x_i)$\n",
    "\n",
    "$$x_{i+1} = e^{-x_i}$$\n",
    "\n",
    "Suponiendo $x_i = 0$"
   ]
  },
  {
   "cell_type": "code",
   "execution_count": 2,
   "metadata": {},
   "outputs": [
    {
     "name": "stdout",
     "output_type": "stream",
     "text": [
      "Iteration = 0   x_0 = 0   relative_error = 100.0 %\n",
      "Iteration = 1   x_1 = 1.0   relative_error = 171.82818 %\n",
      "Iteration = 2   x_2 = 0.36788   relative_error = 46.85364 %\n",
      "Iteration = 3   x_3 = 0.6922   relative_error = 38.30915 %\n",
      "Iteration = 4   x_4 = 0.50047   relative_error = 17.44679 %\n",
      "Iteration = 5   x_5 = 0.60624   relative_error = 11.15662 %\n",
      "Iteration = 6   x_6 = 0.5454   relative_error = 5.90335 %\n",
      "Iteration = 7   x_7 = 0.57961   relative_error = 3.48087 %\n",
      "Iteration = 8   x_8 = 0.56012   relative_error = 1.9308 %\n",
      "Iteration = 9   x_9 = 0.57114   relative_error = 1.10887 %\n",
      "Iteration = 10   x_10 = 0.56488   relative_error = 0.62442 %\n",
      "Iteration = 11   x_11 = 0.56843   relative_error = 0.35557 %\n",
      "Iteration = 12   x_12 = 0.56641   relative_error = 0.2012 %\n",
      "Iteration = 13   x_13 = 0.56756   relative_error = 0.11426 %\n",
      "Iteration = 14   x_14 = 0.56691   relative_error = 0.06475 %\n",
      "Iteration = 15   x_15 = 0.56728   relative_error = 0.03674 %\n",
      "Iteration = 16   x_16 = 0.56707   relative_error = 0.02083 %\n",
      "Iteration = 17   x_17 = 0.56719   relative_error = 0.01182 %\n",
      "Iteration = 18   x_18 = 0.56712   relative_error = 0.0067 %\n",
      "\n",
      "x_root_approx = 0.5671570440012975 whit relative_error = (+/-) 0.01 %\n"
     ]
    },
    {
     "data": {
      "image/png": "[encoded data removed]",
      "text/plain": [
       "<Figure size 432x288 with 1 Axes>"
      ]
     },
     "metadata": {
      "needs_background": "light"
     },
     "output_type": "display_data"
    }
   ],
   "source": [
    "import numpy as np\n",
    "import math\n",
    "import matplotlib.pyplot as plt\n",
    "\n",
    "def equation_f_x(x):\n",
    "    return math.pow(np.e, -x) - x\n",
    "\n",
    "def equation_g_x(x):\n",
    "    return math.pow(np.e, -x)\n",
    "\n",
    "error_a = 0.01\n",
    "x_i = 0\n",
    "\n",
    "iterations = 0\n",
    "error_a_iterations = [math.nan]\n",
    "x_root_approx = x_i\n",
    "while ((error_a_iterations[-1] > error_a) or (math.isnan(error_a_iterations[-1]))):\n",
    "    x_root_approx_previous = x_root_approx\n",
    "    x_root_approx = equation_g_x(x_root_approx_previous)\n",
    "    if not(x_root_approx == 0):\n",
    "        error_a_iterations.append(np.abs((x_root_approx - x_root_approx_previous)/x_root_approx)*100)\n",
    "        print(\"Iteration =\", iterations, \\\n",
    "              \"  x_{} =\".format(iterations), round(x_root_approx_previous, 5), \\\n",
    "              \"  relative_error =\", round(error_a_iterations[-1], 5), \"%\")\n",
    "        iterations += 1\n",
    "    else:\n",
    "        print(\"Exact root was found\")\n",
    "        break\n",
    "print(\"\\nx_root_approx =\", x_root_approx, \"whit relative_error = (+/-)\", error_a, \"%\")\n",
    "\n",
    "x = np.linspace(-2, 2, num = 1000)\n",
    "\n",
    "f_x = []\n",
    "for i in range(len(x)):\n",
    "    f_x.append(equation_f_x(x[i]))\n",
    "\n",
    "\n",
    "plt.plot(x, f_x)\n",
    "plt.scatter(x_root_approx, 0, color = 'r')\n",
    "plt.grid()\n",
    "plt.axvline(color = 'k')\n",
    "plt.axhline(color = 'k')\n",
    "plt.show()"
   ]
  },
  {
   "cell_type": "markdown",
   "metadata": {},
   "source": [
    "#### Análisis del error relativo porcentual"
   ]
  },
  {
   "cell_type": "code",
   "execution_count": 4,
   "metadata": {},
   "outputs": [
    {
     "data": {
      "image/png": "[encoded data removed]",
      "text/plain": [
       "<Figure size 432x288 with 1 Axes>"
      ]
     },
     "metadata": {
      "needs_background": "light"
     },
     "output_type": "display_data"
    }
   ],
   "source": [
    "plt.plot(range(len(error_a_iterations)), error_a_iterations)\n",
    "plt.grid()\n",
    "plt.axvline(color = 'k')\n",
    "plt.axhline(color = 'k')\n",
    "plt.show()"
   ]
  }
 ],
 "metadata": {
  "kernelspec": {
   "display_name": "Python 3",
   "language": "python",
   "name": "python3"
  },
  "language_info": {
   "codemirror_mode": {
    "name": "ipython",
    "version": 3
   },
   "file_extension": ".py",
   "mimetype": "text/x-python",
   "name": "python",
   "nbconvert_exporter": "python",
   "pygments_lexer": "ipython3",
   "version": "3.7.4"
  }
 },
 "nbformat": 4,
 "nbformat_minor": 2
}
